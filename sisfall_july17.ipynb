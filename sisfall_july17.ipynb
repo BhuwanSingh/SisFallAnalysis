{
 "cells": [
  {
   "cell_type": "code",
   "execution_count": 112,
   "metadata": {
    "collapsed": true
   },
   "outputs": [],
   "source": [
    "%matplotlib inline\n",
    "import pandas as pd\n",
    "import numpy as np\n",
    "import matplotlib.pyplot as plt\n",
    "import seaborn as sns\n",
    "import warnings\n",
    "import os\n",
    "import glob\n",
    "import time\n",
    "warnings.filterwarnings('ignore')\n",
    "\n",
    "data = pd.read_csv('/Users/mattjohnson/Desktop/Python 2018/Untitled Folder/SisFall/big_acm_data.csv')\n",
    "data = data.drop('Unnamed: 0', axis=1)"
   ]
  },
  {
   "cell_type": "code",
   "execution_count": 113,
   "metadata": {
    "collapsed": true
   },
   "outputs": [],
   "source": [
    "subjects = ['SA01','SA02','SA03','SA04','SA05','SA06','SA07','SA08','SA09','SA10','SA11','SA12','SA13','SA14','SA15',\n",
    " 'SA16','SA17','SA18','SA19','SA20','SA21','SA22', 'SA23','SE0','SE1','SE2','SE3','SE4','SE5','SE6','SE7','SE8','SE9',\n",
    " 'SE10','SE11','SE12','SE13','SE14','SE15']\n",
    "dailies = ['D01','D02','D03','D04','D05','D06','D07','D08','D09','Da10','D11','D12','D13','D14','D15',\n",
    " 'D16','D17','D18','D19']\n",
    "falls = ['F01','F02','F03','F04','F05','F06','F07','F08','F09','F10','F11','F12','F13','F14','F15']\n",
    "#activ_label = {'STD':1,'WAL':2,'JOG':3,'JUM':4,'STU':5,'STN':6,'SCH':7,'SIT':8,'CHU':9,'CSI':10,'CSO':11,\n",
    "#'LYI':12,'FOL':0,'FKL':0,'BSC':0,'SDL':0}\n",
    "#Label = {0:'Fall',1:'Stand',2:'Walk',3:'Jog',4:'Jump',5:'up_stair',6:'down_stair',\n",
    "#         7:'stand2sit',8:'sitting',9:'sit2stand',10:'CSI',11:'CSO',12:'LYI'}"
   ]
  },
  {
   "cell_type": "code",
   "execution_count": 114,
   "metadata": {},
   "outputs": [
    {
     "data": {
      "text/html": [
       "<div>\n",
       "<style>\n",
       "    .dataframe thead tr:only-child th {\n",
       "        text-align: right;\n",
       "    }\n",
       "\n",
       "    .dataframe thead th {\n",
       "        text-align: left;\n",
       "    }\n",
       "\n",
       "    .dataframe tbody tr th {\n",
       "        vertical-align: top;\n",
       "    }\n",
       "</style>\n",
       "<table border=\"1\" class=\"dataframe\">\n",
       "  <thead>\n",
       "    <tr style=\"text-align: right;\">\n",
       "      <th></th>\n",
       "      <th>x1</th>\n",
       "      <th>y1</th>\n",
       "      <th>z1</th>\n",
       "      <th>x2</th>\n",
       "      <th>y2</th>\n",
       "      <th>z2</th>\n",
       "      <th>x3</th>\n",
       "      <th>y3</th>\n",
       "      <th>z3</th>\n",
       "      <th>activity</th>\n",
       "      <th>subject</th>\n",
       "      <th>trial</th>\n",
       "      <th>filename</th>\n",
       "    </tr>\n",
       "  </thead>\n",
       "  <tbody>\n",
       "    <tr>\n",
       "      <th>0</th>\n",
       "      <td>9</td>\n",
       "      <td>-18</td>\n",
       "      <td>240</td>\n",
       "      <td>-12</td>\n",
       "      <td>74</td>\n",
       "      <td>-2</td>\n",
       "      <td>45</td>\n",
       "      <td>-77</td>\n",
       "      <td>1042</td>\n",
       "      <td>D14</td>\n",
       "      <td>SE11</td>\n",
       "      <td>R01</td>\n",
       "      <td>D14_SE11_R01.txt</td>\n",
       "    </tr>\n",
       "    <tr>\n",
       "      <th>1</th>\n",
       "      <td>9</td>\n",
       "      <td>-23</td>\n",
       "      <td>241</td>\n",
       "      <td>-14</td>\n",
       "      <td>73</td>\n",
       "      <td>-1</td>\n",
       "      <td>45</td>\n",
       "      <td>-80</td>\n",
       "      <td>1044</td>\n",
       "      <td>D14</td>\n",
       "      <td>SE11</td>\n",
       "      <td>R01</td>\n",
       "      <td>D14_SE11_R01.txt</td>\n",
       "    </tr>\n",
       "    <tr>\n",
       "      <th>2</th>\n",
       "      <td>9</td>\n",
       "      <td>-19</td>\n",
       "      <td>241</td>\n",
       "      <td>-13</td>\n",
       "      <td>73</td>\n",
       "      <td>-2</td>\n",
       "      <td>45</td>\n",
       "      <td>-78</td>\n",
       "      <td>1046</td>\n",
       "      <td>D14</td>\n",
       "      <td>SE11</td>\n",
       "      <td>R01</td>\n",
       "      <td>D14_SE11_R01.txt</td>\n",
       "    </tr>\n",
       "    <tr>\n",
       "      <th>3</th>\n",
       "      <td>8</td>\n",
       "      <td>-20</td>\n",
       "      <td>243</td>\n",
       "      <td>-15</td>\n",
       "      <td>71</td>\n",
       "      <td>-2</td>\n",
       "      <td>47</td>\n",
       "      <td>-78</td>\n",
       "      <td>1047</td>\n",
       "      <td>D14</td>\n",
       "      <td>SE11</td>\n",
       "      <td>R01</td>\n",
       "      <td>D14_SE11_R01.txt</td>\n",
       "    </tr>\n",
       "    <tr>\n",
       "      <th>4</th>\n",
       "      <td>8</td>\n",
       "      <td>-22</td>\n",
       "      <td>241</td>\n",
       "      <td>-14</td>\n",
       "      <td>69</td>\n",
       "      <td>-2</td>\n",
       "      <td>44</td>\n",
       "      <td>-83</td>\n",
       "      <td>1048</td>\n",
       "      <td>D14</td>\n",
       "      <td>SE11</td>\n",
       "      <td>R01</td>\n",
       "      <td>D14_SE11_R01.txt</td>\n",
       "    </tr>\n",
       "  </tbody>\n",
       "</table>\n",
       "</div>"
      ],
      "text/plain": [
       "   x1  y1   z1  x2  y2  z2  x3  y3    z3 activity subject trial  \\\n",
       "0   9 -18  240 -12  74  -2  45 -77  1042      D14    SE11   R01   \n",
       "1   9 -23  241 -14  73  -1  45 -80  1044      D14    SE11   R01   \n",
       "2   9 -19  241 -13  73  -2  45 -78  1046      D14    SE11   R01   \n",
       "3   8 -20  243 -15  71  -2  47 -78  1047      D14    SE11   R01   \n",
       "4   8 -22  241 -14  69  -2  44 -83  1048      D14    SE11   R01   \n",
       "\n",
       "           filename  \n",
       "0  D14_SE11_R01.txt  \n",
       "1  D14_SE11_R01.txt  \n",
       "2  D14_SE11_R01.txt  \n",
       "3  D14_SE11_R01.txt  \n",
       "4  D14_SE11_R01.txt  "
      ]
     },
     "execution_count": 114,
     "metadata": {},
     "output_type": "execute_result"
    }
   ],
   "source": [
    "data.head()"
   ]
  },
  {
   "cell_type": "code",
   "execution_count": 120,
   "metadata": {
    "collapsed": true
   },
   "outputs": [],
   "source": [
    "subjectList = list(df['subject'].value_counts().index)\n",
    "trialList = list(df['trial'].value_counts().index)\n",
    "activityList = list(df['activity'].value_counts().index)"
   ]
  },
  {
   "cell_type": "code",
   "execution_count": 184,
   "metadata": {},
   "outputs": [
    {
     "ename": "KeyError",
     "evalue": "'subject'",
     "output_type": "error",
     "traceback": [
      "\u001b[0;31m---------------------------------------------------------------------------\u001b[0m",
      "\u001b[0;31mTypeError\u001b[0m                                 Traceback (most recent call last)",
      "\u001b[0;32mpandas/_libs/index.pyx\u001b[0m in \u001b[0;36mpandas._libs.index.IndexEngine.get_loc\u001b[0;34m()\u001b[0m\n",
      "\u001b[0;32mpandas/_libs/hashtable_class_helper.pxi\u001b[0m in \u001b[0;36mpandas._libs.hashtable.Int64HashTable.get_item\u001b[0;34m()\u001b[0m\n",
      "\u001b[0;31mTypeError\u001b[0m: an integer is required",
      "\nDuring handling of the above exception, another exception occurred:\n",
      "\u001b[0;31mKeyError\u001b[0m                                  Traceback (most recent call last)",
      "\u001b[0;32m<ipython-input-184-98dac6bf398e>\u001b[0m in \u001b[0;36m<module>\u001b[0;34m()\u001b[0m\n\u001b[1;32m      5\u001b[0m \u001b[0mi\u001b[0m\u001b[0;34m=\u001b[0m\u001b[0;36m0\u001b[0m\u001b[0;34m\u001b[0m\u001b[0m\n\u001b[1;32m      6\u001b[0m \u001b[0;32mfor\u001b[0m \u001b[0ms\u001b[0m\u001b[0;34m,\u001b[0m\u001b[0mt\u001b[0m\u001b[0;34m,\u001b[0m\u001b[0ma\u001b[0m \u001b[0;32min\u001b[0m \u001b[0mzip\u001b[0m\u001b[0;34m(\u001b[0m\u001b[0msubjectList\u001b[0m\u001b[0;34m,\u001b[0m \u001b[0mtrialList\u001b[0m\u001b[0;34m,\u001b[0m \u001b[0mactivityList\u001b[0m\u001b[0;34m)\u001b[0m\u001b[0;34m:\u001b[0m\u001b[0;34m\u001b[0m\u001b[0m\n\u001b[0;32m----> 7\u001b[0;31m     \u001b[0mtempdf\u001b[0m \u001b[0;34m=\u001b[0m \u001b[0mdf\u001b[0m\u001b[0;34m[\u001b[0m \u001b[0;34m(\u001b[0m\u001b[0mdf\u001b[0m\u001b[0;34m[\u001b[0m\u001b[0;34m'subject'\u001b[0m\u001b[0;34m]\u001b[0m\u001b[0;34m==\u001b[0m\u001b[0ms\u001b[0m\u001b[0;34m)\u001b[0m \u001b[0;34m&\u001b[0m \u001b[0;34m(\u001b[0m\u001b[0mdf\u001b[0m\u001b[0;34m[\u001b[0m\u001b[0;34m'trial'\u001b[0m\u001b[0;34m]\u001b[0m\u001b[0;34m==\u001b[0m\u001b[0mt\u001b[0m\u001b[0;34m)\u001b[0m \u001b[0;34m&\u001b[0m \u001b[0;34m(\u001b[0m\u001b[0mdf\u001b[0m\u001b[0;34m[\u001b[0m\u001b[0;34m'activity'\u001b[0m\u001b[0;34m]\u001b[0m\u001b[0;34m==\u001b[0m\u001b[0ma\u001b[0m\u001b[0;34m)\u001b[0m\u001b[0;34m]\u001b[0m\u001b[0;34m\u001b[0m\u001b[0m\n\u001b[0m\u001b[1;32m      8\u001b[0m \u001b[0;34m\u001b[0m\u001b[0m\n\u001b[1;32m      9\u001b[0m     \u001b[0;32mif\u001b[0m \u001b[0mlen\u001b[0m\u001b[0;34m(\u001b[0m\u001b[0mtempdf\u001b[0m\u001b[0;34m)\u001b[0m \u001b[0;34m!=\u001b[0m \u001b[0;36m0\u001b[0m\u001b[0;34m:\u001b[0m\u001b[0;34m\u001b[0m\u001b[0m\n",
      "\u001b[0;32m/anaconda3/lib/python3.6/site-packages/pandas/core/series.py\u001b[0m in \u001b[0;36m__getitem__\u001b[0;34m(self, key)\u001b[0m\n\u001b[1;32m    599\u001b[0m         \u001b[0mkey\u001b[0m \u001b[0;34m=\u001b[0m \u001b[0mcom\u001b[0m\u001b[0;34m.\u001b[0m\u001b[0m_apply_if_callable\u001b[0m\u001b[0;34m(\u001b[0m\u001b[0mkey\u001b[0m\u001b[0;34m,\u001b[0m \u001b[0mself\u001b[0m\u001b[0;34m)\u001b[0m\u001b[0;34m\u001b[0m\u001b[0m\n\u001b[1;32m    600\u001b[0m         \u001b[0;32mtry\u001b[0m\u001b[0;34m:\u001b[0m\u001b[0;34m\u001b[0m\u001b[0m\n\u001b[0;32m--> 601\u001b[0;31m             \u001b[0mresult\u001b[0m \u001b[0;34m=\u001b[0m \u001b[0mself\u001b[0m\u001b[0;34m.\u001b[0m\u001b[0mindex\u001b[0m\u001b[0;34m.\u001b[0m\u001b[0mget_value\u001b[0m\u001b[0;34m(\u001b[0m\u001b[0mself\u001b[0m\u001b[0;34m,\u001b[0m \u001b[0mkey\u001b[0m\u001b[0;34m)\u001b[0m\u001b[0;34m\u001b[0m\u001b[0m\n\u001b[0m\u001b[1;32m    602\u001b[0m \u001b[0;34m\u001b[0m\u001b[0m\n\u001b[1;32m    603\u001b[0m             \u001b[0;32mif\u001b[0m \u001b[0;32mnot\u001b[0m \u001b[0mis_scalar\u001b[0m\u001b[0;34m(\u001b[0m\u001b[0mresult\u001b[0m\u001b[0;34m)\u001b[0m\u001b[0;34m:\u001b[0m\u001b[0;34m\u001b[0m\u001b[0m\n",
      "\u001b[0;32m/anaconda3/lib/python3.6/site-packages/pandas/core/indexes/base.py\u001b[0m in \u001b[0;36mget_value\u001b[0;34m(self, series, key)\u001b[0m\n\u001b[1;32m   2475\u001b[0m         \u001b[0;32mtry\u001b[0m\u001b[0;34m:\u001b[0m\u001b[0;34m\u001b[0m\u001b[0m\n\u001b[1;32m   2476\u001b[0m             return self._engine.get_value(s, k,\n\u001b[0;32m-> 2477\u001b[0;31m                                           tz=getattr(series.dtype, 'tz', None))\n\u001b[0m\u001b[1;32m   2478\u001b[0m         \u001b[0;32mexcept\u001b[0m \u001b[0mKeyError\u001b[0m \u001b[0;32mas\u001b[0m \u001b[0me1\u001b[0m\u001b[0;34m:\u001b[0m\u001b[0;34m\u001b[0m\u001b[0m\n\u001b[1;32m   2479\u001b[0m             \u001b[0;32mif\u001b[0m \u001b[0mlen\u001b[0m\u001b[0;34m(\u001b[0m\u001b[0mself\u001b[0m\u001b[0;34m)\u001b[0m \u001b[0;34m>\u001b[0m \u001b[0;36m0\u001b[0m \u001b[0;32mand\u001b[0m \u001b[0mself\u001b[0m\u001b[0;34m.\u001b[0m\u001b[0minferred_type\u001b[0m \u001b[0;32min\u001b[0m \u001b[0;34m[\u001b[0m\u001b[0;34m'integer'\u001b[0m\u001b[0;34m,\u001b[0m \u001b[0;34m'boolean'\u001b[0m\u001b[0;34m]\u001b[0m\u001b[0;34m:\u001b[0m\u001b[0;34m\u001b[0m\u001b[0m\n",
      "\u001b[0;32mpandas/_libs/index.pyx\u001b[0m in \u001b[0;36mpandas._libs.index.IndexEngine.get_value\u001b[0;34m()\u001b[0m\n",
      "\u001b[0;32mpandas/_libs/index.pyx\u001b[0m in \u001b[0;36mpandas._libs.index.IndexEngine.get_value\u001b[0;34m()\u001b[0m\n",
      "\u001b[0;32mpandas/_libs/index.pyx\u001b[0m in \u001b[0;36mpandas._libs.index.IndexEngine.get_loc\u001b[0;34m()\u001b[0m\n",
      "\u001b[0;31mKeyError\u001b[0m: 'subject'"
     ]
    }
   ],
   "source": [
    "start = time.time()\n",
    "df = data.copy()\n",
    "combinationList = []\n",
    "\n",
    "i=0\n",
    "for s,t,a in zip(subjectList, trialList, activityList):\n",
    "    tempdf = df[ (df['subject']==s) & (df['trial']==t) & (df['activity']==a)]\n",
    "    \n",
    "    if len(tempdf) != 0:\n",
    "        combinationList.append(tempdf)\n",
    "        print('appending')\n",
    "\n",
    "print(len(combinationList))\n",
    "print ('Completed... It took', time.time()-start, 'seconds.')"
   ]
  },
  {
   "cell_type": "code",
   "execution_count": 127,
   "metadata": {},
   "outputs": [
    {
     "name": "stdout",
     "output_type": "stream",
     "text": [
      "7752\n",
      "310.08\n",
      "124.0\n"
     ]
    }
   ],
   "source": [
    "print( len(subjectList)*len(trialList)*len(activityList) )\n",
    "print(7752/25)\n",
    "print(310*24/60)"
   ]
  },
  {
   "cell_type": "code",
   "execution_count": 142,
   "metadata": {
    "scrolled": true
   },
   "outputs": [
    {
     "name": "stdout",
     "output_type": "stream",
     "text": [
      "Passed consecutive test.\n"
     ]
    },
    {
     "data": {
      "text/plain": [
       "True"
      ]
     },
     "execution_count": 142,
     "metadata": {},
     "output_type": "execute_result"
    }
   ],
   "source": [
    "#tests if indexes of a dataframe are consecutive, returns boolean, prints message\n",
    "def test_if_consecutive(dataframe):\n",
    "    hopefully_ones = pd.DataFrame(dataframe.index).diff()\n",
    "    t1 = int(hopefully_ones[0][1:].sum())\n",
    "    t2 = len(hopefully_ones)-1\n",
    "    \n",
    "    if t1 == t2:\n",
    "        print('Passed consecutive test.')\n",
    "        return True\n",
    "    else:\n",
    "        print('Contains non-consecutive data!')\n",
    "        return False\n",
    "\n",
    "test_if_consecutive(combinationList[1])"
   ]
  },
  {
   "cell_type": "code",
   "execution_count": 163,
   "metadata": {},
   "outputs": [
    {
     "name": "stdout",
     "output_type": "stream",
     "text": [
      "Passed consecutive test.\n"
     ]
    }
   ],
   "source": [
    "curr_df = combinationList[1].copy()\n",
    "\n",
    "if not test_if_consecutive(curr_df):\n",
    "    print('abort')\n",
    "# passed consec test.. now...\n",
    "\n",
    "# seperate numeric and categorical\n",
    "num_df = curr_df[['x1', 'y1', 'z1']]\n",
    "supp_df = curr_df[['activity', 'subject', 'trial']]"
   ]
  },
  {
   "cell_type": "code",
   "execution_count": 166,
   "metadata": {},
   "outputs": [
    {
     "data": {
      "text/plain": [
       "25.0"
      ]
     },
     "execution_count": 166,
     "metadata": {},
     "output_type": "execute_result"
    }
   ],
   "source": [
    "5000/200"
   ]
  },
  {
   "cell_type": "code",
   "execution_count": 182,
   "metadata": {
    "collapsed": true
   },
   "outputs": [],
   "source": [
    "import numpy as np\n",
    "from scipy.signal import butter, lfilter, freqz\n",
    "import matplotlib.pyplot as plt\n",
    "\n",
    "\n",
    "def butter_lowpass(cutoff, fs, order=5):\n",
    "    nyq = 0.5 * fs\n",
    "    normal_cutoff = cutoff / nyq\n",
    "    b, a = butter(order, normal_cutoff, btype='low', analog=False)\n",
    "    return b, a\n",
    "\n",
    "def butter_lowpass_filter(data, cutoff, fs, order=5):\n",
    "    b, a = butter_lowpass(cutoff, fs, order=order)\n",
    "    y = lfilter(b, a, data)\n",
    "    return y\n",
    "\n",
    "\n",
    "# Filter requirements.\n",
    "order = 4\n",
    "fs = 200.0       # sample rate, Hz\n",
    "cutoff = 5.0  # desired cutoff frequency of the filter, Hz"
   ]
  },
  {
   "cell_type": "code",
   "execution_count": 170,
   "metadata": {
    "collapsed": true
   },
   "outputs": [],
   "source": [
    "filter_df = num_df.copy()\n",
    "\n",
    "for col in filter_df.columns:\n",
    "    filter_df[col] = butter_lowpass_filter(filter_df[col], cutoff, fs, order)"
   ]
  },
  {
   "cell_type": "code",
   "execution_count": 177,
   "metadata": {},
   "outputs": [
    {
     "data": {
      "text/html": [
       "<div>\n",
       "<style>\n",
       "    .dataframe thead tr:only-child th {\n",
       "        text-align: right;\n",
       "    }\n",
       "\n",
       "    .dataframe thead th {\n",
       "        text-align: left;\n",
       "    }\n",
       "\n",
       "    .dataframe tbody tr th {\n",
       "        vertical-align: top;\n",
       "    }\n",
       "</style>\n",
       "<table border=\"1\" class=\"dataframe\">\n",
       "  <thead>\n",
       "    <tr style=\"text-align: right;\">\n",
       "      <th></th>\n",
       "      <th>activity</th>\n",
       "      <th>subject</th>\n",
       "      <th>trial</th>\n",
       "    </tr>\n",
       "  </thead>\n",
       "  <tbody>\n",
       "    <tr>\n",
       "      <th>12766357</th>\n",
       "      <td>D17</td>\n",
       "      <td>SA01</td>\n",
       "      <td>R05</td>\n",
       "    </tr>\n",
       "    <tr>\n",
       "      <th>12766358</th>\n",
       "      <td>D17</td>\n",
       "      <td>SA01</td>\n",
       "      <td>R05</td>\n",
       "    </tr>\n",
       "    <tr>\n",
       "      <th>12766359</th>\n",
       "      <td>D17</td>\n",
       "      <td>SA01</td>\n",
       "      <td>R05</td>\n",
       "    </tr>\n",
       "    <tr>\n",
       "      <th>12766360</th>\n",
       "      <td>D17</td>\n",
       "      <td>SA01</td>\n",
       "      <td>R05</td>\n",
       "    </tr>\n",
       "    <tr>\n",
       "      <th>12766361</th>\n",
       "      <td>D17</td>\n",
       "      <td>SA01</td>\n",
       "      <td>R05</td>\n",
       "    </tr>\n",
       "  </tbody>\n",
       "</table>\n",
       "</div>"
      ],
      "text/plain": [
       "         activity subject trial\n",
       "12766357      D17    SA01   R05\n",
       "12766358      D17    SA01   R05\n",
       "12766359      D17    SA01   R05\n",
       "12766360      D17    SA01   R05\n",
       "12766361      D17    SA01   R05"
      ]
     },
     "execution_count": 177,
     "metadata": {},
     "output_type": "execute_result"
    }
   ],
   "source": [
    "supp_df.head()"
   ]
  },
  {
   "cell_type": "code",
   "execution_count": 181,
   "metadata": {},
   "outputs": [
    {
     "data": {
      "image/png": "[encoded data removed]",
      "text/plain": [
       "<Figure size 1080x360 with 1 Axes>"
      ]
     },
     "metadata": {},
     "output_type": "display_data"
    }
   ],
   "source": [
    "# differential/ removing bias\n",
    "diff_df = filter_df.diff()[1:]\n",
    "diff_df['A'] = diff_df.apply(lambda row: np.sqrt( row.iloc[0]**2 + row.iloc[1]**2 + row.iloc[2]**2).round(3) , axis=1)\n",
    "diff_df.head()\n",
    "\n",
    "f = plt.figure(figsize=(15,5))\n",
    "ax = f.add_subplot(111)\n",
    "ax.plot(diff_df.reset_index(drop=True));\n",
    "ax.set_title('Trial R05 of subject SA01: standing, get into a car, remain seated and get out of the car. (D17)');\n",
    "# possibly set x axis to seconds (200hz, 5 seconds)"
   ]
  },
  {
   "cell_type": "code",
   "execution_count": null,
   "metadata": {
    "collapsed": true
   },
   "outputs": [],
   "source": []
  },
  {
   "cell_type": "code",
   "execution_count": 183,
   "metadata": {},
   "outputs": [
    {
     "data": {
      "text/plain": [
       "2"
      ]
     },
     "execution_count": 183,
     "metadata": {},
     "output_type": "execute_result"
    }
   ],
   "source": [
    "len(combinationList)"
   ]
  },
  {
   "cell_type": "code",
   "execution_count": null,
   "metadata": {
    "collapsed": true
   },
   "outputs": [],
   "source": []
  },
  {
   "cell_type": "code",
   "execution_count": null,
   "metadata": {
    "collapsed": true
   },
   "outputs": [],
   "source": []
  },
  {
   "cell_type": "code",
   "execution_count": null,
   "metadata": {
    "collapsed": true
   },
   "outputs": [],
   "source": []
  },
  {
   "cell_type": "code",
   "execution_count": null,
   "metadata": {
    "collapsed": true
   },
   "outputs": [],
   "source": []
  },
  {
   "cell_type": "code",
   "execution_count": null,
   "metadata": {
    "collapsed": true
   },
   "outputs": [],
   "source": []
  },
  {
   "cell_type": "code",
   "execution_count": null,
   "metadata": {
    "collapsed": true
   },
   "outputs": [],
   "source": []
  },
  {
   "cell_type": "code",
   "execution_count": 161,
   "metadata": {},
   "outputs": [
    {
     "data": {
      "image/png": "[encoded data removed]",
      "text/plain": [
       "<Figure size 1080x360 with 1 Axes>"
      ]
     },
     "metadata": {},
     "output_type": "display_data"
    }
   ],
   "source": [
    "f = plt.figure(figsize=(15,5))\n",
    "ax = f.add_subplot(111)\n",
    "#ax2 = f.add_subplot(312)\n",
    "#ax3 = f.add_subplot(313)\n",
    "diffy['A'] = diffy.apply(lambda row: np.sqrt( row.iloc[0]**2 + row.iloc[1]**2 + row.iloc[2]**2).round(3) , axis=1)\n",
    "\n",
    "ax.plot(diffy[['x1', 'y1', 'z1']].reset_index(drop=True))\n",
    "#ax2.plot(df2[['x2', 'y2', 'z2', 'A']]);\n",
    "#ax3.plot(df3[['x3', 'y3', 'z3', 'A']]);\n",
    "plt.subplots_adjust(hspace=0.5)"
   ]
  },
  {
   "cell_type": "code",
   "execution_count": 116,
   "metadata": {},
   "outputs": [
    {
     "name": "stdout",
     "output_type": "stream",
     "text": [
      "0\n",
      "Completed... It took 4392.98743891716 seconds.\n"
     ]
    }
   ],
   "source": [
    "start = time.time()\n",
    "\n",
    "df = data.copy()\n",
    "\n",
    "fall_jog_list = []\n",
    "\n",
    "for s in df['subject'].value_counts().index:\n",
    "    for t in df['trial'].value_counts().index:\n",
    "        for a in df['activity'].value_counts().index:\n",
    "            tempdf = df[ (df['subject']==s) & (df['trial']==t) & (df['activity']==a)]\n",
    "            ## put in code to not append if len = 0\n",
    "            if len(tempdf) != 0:\n",
    "                fall_jog_list.append(tempdf)\n",
    "        break # temp\n",
    "        \n",
    "print(len(fall_jog_list))\n",
    "print ('Completed... It took', time.time()-start, 'seconds.')"
   ]
  },
  {
   "cell_type": "code",
   "execution_count": 119,
   "metadata": {},
   "outputs": [
    {
     "data": {
      "text/plain": [
       "[]"
      ]
     },
     "execution_count": 119,
     "metadata": {},
     "output_type": "execute_result"
    }
   ],
   "source": []
  },
  {
   "cell_type": "code",
   "execution_count": 103,
   "metadata": {},
   "outputs": [
    {
     "name": "stdout",
     "output_type": "stream",
     "text": [
      "sum nan\n",
      "len 168800 \n",
      "\n",
      "relevant indices:\n",
      "11405\n",
      "55604\n",
      "62803\n",
      "98203\n",
      "146001\n",
      "157400\n"
     ]
    }
   ],
   "source": [
    "hopefully_ones = pd.DataFrame(templist[0].index).diff()\n",
    "\n",
    "print('sum',sum(hopefully_ones[0]))\n",
    "print('len',len(hopefully_ones), '\\n')\n",
    "hopefully_ones[0].value_counts()\n",
    "\n",
    "hdf = hopefully_ones[ hopefully_ones[0]>1 ]\n",
    "\n",
    "outOfOrderList = list( hdf.index )\n",
    "\n",
    "print('relevant indices:')\n",
    "for thing in outOfOrderList:\n",
    "    x = int(thing)\n",
    "    print(x)\n",
    "    "
   ]
  },
  {
   "cell_type": "code",
   "execution_count": 111,
   "metadata": {},
   "outputs": [
    {
     "data": {
      "text/html": [
       "<div>\n",
       "<style>\n",
       "    .dataframe thead tr:only-child th {\n",
       "        text-align: right;\n",
       "    }\n",
       "\n",
       "    .dataframe thead th {\n",
       "        text-align: left;\n",
       "    }\n",
       "\n",
       "    .dataframe tbody tr th {\n",
       "        vertical-align: top;\n",
       "    }\n",
       "</style>\n",
       "<table border=\"1\" class=\"dataframe\">\n",
       "  <thead>\n",
       "    <tr style=\"text-align: right;\">\n",
       "      <th></th>\n",
       "      <th>x1</th>\n",
       "      <th>y1</th>\n",
       "      <th>z1</th>\n",
       "      <th>x2</th>\n",
       "      <th>y2</th>\n",
       "      <th>z2</th>\n",
       "      <th>x3</th>\n",
       "      <th>y3</th>\n",
       "      <th>z3</th>\n",
       "      <th>activity</th>\n",
       "      <th>subject</th>\n",
       "      <th>trial</th>\n",
       "      <th>filename</th>\n",
       "    </tr>\n",
       "  </thead>\n",
       "  <tbody>\n",
       "    <tr>\n",
       "      <th>15397926</th>\n",
       "      <td>264</td>\n",
       "      <td>14</td>\n",
       "      <td>-8</td>\n",
       "      <td>-46</td>\n",
       "      <td>17</td>\n",
       "      <td>-6</td>\n",
       "      <td>1000</td>\n",
       "      <td>49</td>\n",
       "      <td>102</td>\n",
       "      <td>F07</td>\n",
       "      <td>SA07</td>\n",
       "      <td>R01</td>\n",
       "      <td>F07_SA07_R01.txt</td>\n",
       "    </tr>\n",
       "    <tr>\n",
       "      <th>15397927</th>\n",
       "      <td>265</td>\n",
       "      <td>15</td>\n",
       "      <td>-7</td>\n",
       "      <td>-46</td>\n",
       "      <td>19</td>\n",
       "      <td>-7</td>\n",
       "      <td>1003</td>\n",
       "      <td>45</td>\n",
       "      <td>101</td>\n",
       "      <td>F07</td>\n",
       "      <td>SA07</td>\n",
       "      <td>R01</td>\n",
       "      <td>F07_SA07_R01.txt</td>\n",
       "    </tr>\n",
       "    <tr>\n",
       "      <th>15397928</th>\n",
       "      <td>262</td>\n",
       "      <td>13</td>\n",
       "      <td>-7</td>\n",
       "      <td>-43</td>\n",
       "      <td>20</td>\n",
       "      <td>-7</td>\n",
       "      <td>995</td>\n",
       "      <td>48</td>\n",
       "      <td>99</td>\n",
       "      <td>F07</td>\n",
       "      <td>SA07</td>\n",
       "      <td>R01</td>\n",
       "      <td>F07_SA07_R01.txt</td>\n",
       "    </tr>\n",
       "    <tr>\n",
       "      <th>15397929</th>\n",
       "      <td>265</td>\n",
       "      <td>15</td>\n",
       "      <td>-7</td>\n",
       "      <td>-43</td>\n",
       "      <td>22</td>\n",
       "      <td>-6</td>\n",
       "      <td>994</td>\n",
       "      <td>50</td>\n",
       "      <td>103</td>\n",
       "      <td>F07</td>\n",
       "      <td>SA07</td>\n",
       "      <td>R01</td>\n",
       "      <td>F07_SA07_R01.txt</td>\n",
       "    </tr>\n",
       "    <tr>\n",
       "      <th>15397930</th>\n",
       "      <td>264</td>\n",
       "      <td>16</td>\n",
       "      <td>-6</td>\n",
       "      <td>-44</td>\n",
       "      <td>24</td>\n",
       "      <td>-8</td>\n",
       "      <td>1001</td>\n",
       "      <td>51</td>\n",
       "      <td>99</td>\n",
       "      <td>F07</td>\n",
       "      <td>SA07</td>\n",
       "      <td>R01</td>\n",
       "      <td>F07_SA07_R01.txt</td>\n",
       "    </tr>\n",
       "    <tr>\n",
       "      <th>15397931</th>\n",
       "      <td>266</td>\n",
       "      <td>15</td>\n",
       "      <td>-4</td>\n",
       "      <td>-43</td>\n",
       "      <td>24</td>\n",
       "      <td>-8</td>\n",
       "      <td>998</td>\n",
       "      <td>53</td>\n",
       "      <td>107</td>\n",
       "      <td>F07</td>\n",
       "      <td>SA07</td>\n",
       "      <td>R01</td>\n",
       "      <td>F07_SA07_R01.txt</td>\n",
       "    </tr>\n",
       "    <tr>\n",
       "      <th>15397932</th>\n",
       "      <td>264</td>\n",
       "      <td>15</td>\n",
       "      <td>-7</td>\n",
       "      <td>-43</td>\n",
       "      <td>24</td>\n",
       "      <td>-6</td>\n",
       "      <td>1001</td>\n",
       "      <td>50</td>\n",
       "      <td>103</td>\n",
       "      <td>F07</td>\n",
       "      <td>SA07</td>\n",
       "      <td>R01</td>\n",
       "      <td>F07_SA07_R01.txt</td>\n",
       "    </tr>\n",
       "    <tr>\n",
       "      <th>15397933</th>\n",
       "      <td>266</td>\n",
       "      <td>17</td>\n",
       "      <td>-6</td>\n",
       "      <td>-42</td>\n",
       "      <td>24</td>\n",
       "      <td>-7</td>\n",
       "      <td>1000</td>\n",
       "      <td>50</td>\n",
       "      <td>102</td>\n",
       "      <td>F07</td>\n",
       "      <td>SA07</td>\n",
       "      <td>R01</td>\n",
       "      <td>F07_SA07_R01.txt</td>\n",
       "    </tr>\n",
       "    <tr>\n",
       "      <th>15397934</th>\n",
       "      <td>264</td>\n",
       "      <td>14</td>\n",
       "      <td>-7</td>\n",
       "      <td>-43</td>\n",
       "      <td>22</td>\n",
       "      <td>-6</td>\n",
       "      <td>1004</td>\n",
       "      <td>49</td>\n",
       "      <td>99</td>\n",
       "      <td>F07</td>\n",
       "      <td>SA07</td>\n",
       "      <td>R01</td>\n",
       "      <td>F07_SA07_R01.txt</td>\n",
       "    </tr>\n",
       "    <tr>\n",
       "      <th>15397935</th>\n",
       "      <td>263</td>\n",
       "      <td>17</td>\n",
       "      <td>-4</td>\n",
       "      <td>-45</td>\n",
       "      <td>21</td>\n",
       "      <td>-7</td>\n",
       "      <td>1011</td>\n",
       "      <td>50</td>\n",
       "      <td>103</td>\n",
       "      <td>F07</td>\n",
       "      <td>SA07</td>\n",
       "      <td>R01</td>\n",
       "      <td>F07_SA07_R01.txt</td>\n",
       "    </tr>\n",
       "    <tr>\n",
       "      <th>15397936</th>\n",
       "      <td>265</td>\n",
       "      <td>13</td>\n",
       "      <td>-7</td>\n",
       "      <td>-48</td>\n",
       "      <td>20</td>\n",
       "      <td>-7</td>\n",
       "      <td>1006</td>\n",
       "      <td>50</td>\n",
       "      <td>103</td>\n",
       "      <td>F07</td>\n",
       "      <td>SA07</td>\n",
       "      <td>R01</td>\n",
       "      <td>F07_SA07_R01.txt</td>\n",
       "    </tr>\n",
       "    <tr>\n",
       "      <th>15449536</th>\n",
       "      <td>1</td>\n",
       "      <td>-231</td>\n",
       "      <td>-125</td>\n",
       "      <td>-40</td>\n",
       "      <td>50</td>\n",
       "      <td>-10</td>\n",
       "      <td>-28</td>\n",
       "      <td>-884</td>\n",
       "      <td>-399</td>\n",
       "      <td>D19</td>\n",
       "      <td>SA07</td>\n",
       "      <td>R01</td>\n",
       "      <td>D19_SA07_R01.txt</td>\n",
       "    </tr>\n",
       "    <tr>\n",
       "      <th>15449537</th>\n",
       "      <td>2</td>\n",
       "      <td>-228</td>\n",
       "      <td>-126</td>\n",
       "      <td>-40</td>\n",
       "      <td>51</td>\n",
       "      <td>-8</td>\n",
       "      <td>-28</td>\n",
       "      <td>-877</td>\n",
       "      <td>-398</td>\n",
       "      <td>D19</td>\n",
       "      <td>SA07</td>\n",
       "      <td>R01</td>\n",
       "      <td>D19_SA07_R01.txt</td>\n",
       "    </tr>\n",
       "    <tr>\n",
       "      <th>15449538</th>\n",
       "      <td>-2</td>\n",
       "      <td>-230</td>\n",
       "      <td>-127</td>\n",
       "      <td>-40</td>\n",
       "      <td>51</td>\n",
       "      <td>-9</td>\n",
       "      <td>-30</td>\n",
       "      <td>-883</td>\n",
       "      <td>-400</td>\n",
       "      <td>D19</td>\n",
       "      <td>SA07</td>\n",
       "      <td>R01</td>\n",
       "      <td>D19_SA07_R01.txt</td>\n",
       "    </tr>\n",
       "    <tr>\n",
       "      <th>15449539</th>\n",
       "      <td>-2</td>\n",
       "      <td>-224</td>\n",
       "      <td>-124</td>\n",
       "      <td>-40</td>\n",
       "      <td>50</td>\n",
       "      <td>-6</td>\n",
       "      <td>-28</td>\n",
       "      <td>-885</td>\n",
       "      <td>-400</td>\n",
       "      <td>D19</td>\n",
       "      <td>SA07</td>\n",
       "      <td>R01</td>\n",
       "      <td>D19_SA07_R01.txt</td>\n",
       "    </tr>\n",
       "    <tr>\n",
       "      <th>15449540</th>\n",
       "      <td>0</td>\n",
       "      <td>-231</td>\n",
       "      <td>-126</td>\n",
       "      <td>-36</td>\n",
       "      <td>51</td>\n",
       "      <td>-8</td>\n",
       "      <td>-27</td>\n",
       "      <td>-884</td>\n",
       "      <td>-399</td>\n",
       "      <td>D19</td>\n",
       "      <td>SA07</td>\n",
       "      <td>R01</td>\n",
       "      <td>D19_SA07_R01.txt</td>\n",
       "    </tr>\n",
       "    <tr>\n",
       "      <th>15449541</th>\n",
       "      <td>-1</td>\n",
       "      <td>-229</td>\n",
       "      <td>-125</td>\n",
       "      <td>-34</td>\n",
       "      <td>51</td>\n",
       "      <td>-6</td>\n",
       "      <td>-29</td>\n",
       "      <td>-886</td>\n",
       "      <td>-403</td>\n",
       "      <td>D19</td>\n",
       "      <td>SA07</td>\n",
       "      <td>R01</td>\n",
       "      <td>D19_SA07_R01.txt</td>\n",
       "    </tr>\n",
       "    <tr>\n",
       "      <th>15449542</th>\n",
       "      <td>-4</td>\n",
       "      <td>-223</td>\n",
       "      <td>-139</td>\n",
       "      <td>-32</td>\n",
       "      <td>50</td>\n",
       "      <td>-8</td>\n",
       "      <td>-27</td>\n",
       "      <td>-884</td>\n",
       "      <td>-398</td>\n",
       "      <td>D19</td>\n",
       "      <td>SA07</td>\n",
       "      <td>R01</td>\n",
       "      <td>D19_SA07_R01.txt</td>\n",
       "    </tr>\n",
       "    <tr>\n",
       "      <th>15449543</th>\n",
       "      <td>-9</td>\n",
       "      <td>-228</td>\n",
       "      <td>-113</td>\n",
       "      <td>-29</td>\n",
       "      <td>49</td>\n",
       "      <td>-5</td>\n",
       "      <td>-27</td>\n",
       "      <td>-883</td>\n",
       "      <td>-403</td>\n",
       "      <td>D19</td>\n",
       "      <td>SA07</td>\n",
       "      <td>R01</td>\n",
       "      <td>D19_SA07_R01.txt</td>\n",
       "    </tr>\n",
       "    <tr>\n",
       "      <th>15449544</th>\n",
       "      <td>1</td>\n",
       "      <td>-231</td>\n",
       "      <td>-119</td>\n",
       "      <td>-25</td>\n",
       "      <td>49</td>\n",
       "      <td>-7</td>\n",
       "      <td>-23</td>\n",
       "      <td>-880</td>\n",
       "      <td>-398</td>\n",
       "      <td>D19</td>\n",
       "      <td>SA07</td>\n",
       "      <td>R01</td>\n",
       "      <td>D19_SA07_R01.txt</td>\n",
       "    </tr>\n",
       "  </tbody>\n",
       "</table>\n",
       "</div>"
      ],
      "text/plain": [
       "           x1   y1   z1  x2  y2  z2    x3   y3   z3 activity subject trial  \\\n",
       "15397926  264   14   -8 -46  17  -6  1000   49  102      F07    SA07   R01   \n",
       "15397927  265   15   -7 -46  19  -7  1003   45  101      F07    SA07   R01   \n",
       "15397928  262   13   -7 -43  20  -7   995   48   99      F07    SA07   R01   \n",
       "15397929  265   15   -7 -43  22  -6   994   50  103      F07    SA07   R01   \n",
       "15397930  264   16   -6 -44  24  -8  1001   51   99      F07    SA07   R01   \n",
       "15397931  266   15   -4 -43  24  -8   998   53  107      F07    SA07   R01   \n",
       "15397932  264   15   -7 -43  24  -6  1001   50  103      F07    SA07   R01   \n",
       "15397933  266   17   -6 -42  24  -7  1000   50  102      F07    SA07   R01   \n",
       "15397934  264   14   -7 -43  22  -6  1004   49   99      F07    SA07   R01   \n",
       "15397935  263   17   -4 -45  21  -7  1011   50  103      F07    SA07   R01   \n",
       "15397936  265   13   -7 -48  20  -7  1006   50  103      F07    SA07   R01   \n",
       "15449536    1 -231 -125 -40  50 -10   -28 -884 -399      D19    SA07   R01   \n",
       "15449537    2 -228 -126 -40  51  -8   -28 -877 -398      D19    SA07   R01   \n",
       "15449538   -2 -230 -127 -40  51  -9   -30 -883 -400      D19    SA07   R01   \n",
       "15449539   -2 -224 -124 -40  50  -6   -28 -885 -400      D19    SA07   R01   \n",
       "15449540    0 -231 -126 -36  51  -8   -27 -884 -399      D19    SA07   R01   \n",
       "15449541   -1 -229 -125 -34  51  -6   -29 -886 -403      D19    SA07   R01   \n",
       "15449542   -4 -223 -139 -32  50  -8   -27 -884 -398      D19    SA07   R01   \n",
       "15449543   -9 -228 -113 -29  49  -5   -27 -883 -403      D19    SA07   R01   \n",
       "15449544    1 -231 -119 -25  49  -7   -23 -880 -398      D19    SA07   R01   \n",
       "\n",
       "                  filename  \n",
       "15397926  F07_SA07_R01.txt  \n",
       "15397927  F07_SA07_R01.txt  \n",
       "15397928  F07_SA07_R01.txt  \n",
       "15397929  F07_SA07_R01.txt  \n",
       "15397930  F07_SA07_R01.txt  \n",
       "15397931  F07_SA07_R01.txt  \n",
       "15397932  F07_SA07_R01.txt  \n",
       "15397933  F07_SA07_R01.txt  \n",
       "15397934  F07_SA07_R01.txt  \n",
       "15397935  F07_SA07_R01.txt  \n",
       "15397936  F07_SA07_R01.txt  \n",
       "15449536  D19_SA07_R01.txt  \n",
       "15449537  D19_SA07_R01.txt  \n",
       "15449538  D19_SA07_R01.txt  \n",
       "15449539  D19_SA07_R01.txt  \n",
       "15449540  D19_SA07_R01.txt  \n",
       "15449541  D19_SA07_R01.txt  \n",
       "15449542  D19_SA07_R01.txt  \n",
       "15449543  D19_SA07_R01.txt  \n",
       "15449544  D19_SA07_R01.txt  "
      ]
     },
     "execution_count": 111,
     "metadata": {},
     "output_type": "execute_result"
    }
   ],
   "source": [
    "hdf.iloc[0]\n",
    "hopefully_ones.iloc[11404-10:11404+10]\n",
    "A = templist[0]\n",
    "len(A)\n",
    "A[11404-10:11404+10]"
   ]
  },
  {
   "cell_type": "code",
   "execution_count": null,
   "metadata": {
    "collapsed": true
   },
   "outputs": [],
   "source": [
    "A.head()"
   ]
  },
  {
   "cell_type": "code",
   "execution_count": 65,
   "metadata": {},
   "outputs": [
    {
     "name": "stdout",
     "output_type": "stream",
     "text": [
      "SA07   R01\n",
      "SA07   R05\n",
      "SA07   R03\n",
      "SA07   R04\n",
      "SA07   R02\n",
      "SA01   R01\n",
      "SA01   R05\n",
      "SA01   R03\n",
      "SA01   R04\n",
      "SA01   R02\n",
      "SA02   R01\n",
      "SA02   R05\n",
      "SA02   R03\n",
      "SA02   R04\n",
      "SA02   R02\n",
      "SA21   R01\n",
      "SA21   R05\n",
      "SA21   R03\n",
      "SA21   R04\n",
      "SA21   R02\n",
      "SA23   R01\n",
      "SA23   R05\n",
      "SA23   R03\n",
      "SA23   R04\n",
      "SA23   R02\n",
      "SA04   R01\n",
      "SA04   R05\n",
      "SA04   R03\n",
      "SA04   R04\n",
      "SA04   R02\n",
      "SE06   R01\n",
      "SE06   R05\n",
      "SE06   R03\n",
      "SE06   R04\n",
      "SE06   R02\n",
      "SA16   R01\n",
      "SA16   R05\n",
      "SA16   R03\n",
      "SA16   R04\n",
      "SA16   R02\n",
      "SA18   R01\n",
      "SA18   R05\n",
      "SA18   R03\n",
      "SA18   R04\n",
      "SA18   R02\n",
      "SA08   R01\n",
      "SA08   R05\n",
      "SA08   R03\n",
      "SA08   R04\n",
      "SA08   R02\n",
      "SA05   R01\n",
      "SA05   R05\n",
      "SA05   R03\n",
      "SA05   R04\n",
      "SA05   R02\n",
      "SA13   R01\n",
      "SA13   R05\n",
      "SA13   R03\n",
      "SA13   R04\n",
      "SA13   R02\n",
      "SA03   R01\n",
      "SA03   R05\n",
      "SA03   R03\n",
      "SA03   R04\n",
      "SA03   R02\n",
      "SA10   R01\n",
      "SA10   R05\n",
      "SA10   R03\n",
      "SA10   R04\n",
      "SA10   R02\n",
      "SA12   R01\n",
      "SA12   R05\n",
      "SA12   R03\n",
      "SA12   R04\n",
      "SA12   R02\n",
      "SA09   R01\n",
      "SA09   R05\n",
      "SA09   R03\n",
      "SA09   R04\n",
      "SA09   R02\n",
      "SA11   R01\n",
      "SA11   R05\n",
      "SA11   R03\n",
      "SA11   R04\n",
      "SA11   R02\n",
      "SA06   R01\n",
      "SA06   R05\n",
      "SA06   R03\n",
      "SA06   R04\n",
      "SA06   R02\n",
      "SA19   R01\n",
      "SA19   R05\n",
      "SA19   R03\n",
      "SA19   R04\n",
      "SA19   R02\n",
      "SA14   R01\n",
      "SA14   R05\n",
      "SA14   R03\n",
      "SA14   R04\n",
      "SA14   R02\n",
      "SA22   R01\n",
      "SA22   R05\n",
      "SA22   R03\n",
      "SA22   R04\n",
      "SA22   R02\n",
      "SA17   R01\n",
      "SA17   R05\n",
      "SA17   R03\n",
      "SA17   R04\n",
      "SA17   R02\n",
      "SA20   R01\n",
      "SA20   R05\n",
      "SA20   R03\n",
      "SA20   R04\n",
      "SA20   R02\n",
      "SA15   R01\n",
      "SA15   R05\n",
      "SA15   R03\n",
      "SA15   R04\n",
      "SA15   R02\n",
      "SE01   R01\n",
      "SE01   R05\n",
      "SE01   R03\n",
      "SE01   R04\n",
      "SE01   R02\n",
      "SE15   R01\n",
      "SE15   R05\n",
      "SE15   R03\n",
      "SE15   R04\n",
      "SE15   R02\n",
      "SE03   R01\n",
      "SE03   R05\n",
      "SE03   R03\n",
      "SE03   R04\n",
      "SE03   R02\n",
      "SE10   R01\n",
      "SE10   R05\n",
      "SE10   R03\n",
      "SE10   R04\n",
      "SE10   R02\n",
      "SE13   R01\n",
      "SE13   R05\n",
      "SE13   R03\n",
      "SE13   R04\n",
      "SE13   R02\n",
      "SE11   R01\n",
      "SE11   R05\n",
      "SE11   R03\n",
      "SE11   R04\n",
      "SE11   R02\n",
      "SE08   R01\n",
      "SE08   R05\n",
      "SE08   R03\n",
      "SE08   R04\n",
      "SE08   R02\n",
      "SE09   R01\n",
      "SE09   R05\n",
      "SE09   R03\n",
      "SE09   R04\n",
      "SE09   R02\n",
      "SE07   R01\n",
      "SE07   R05\n",
      "SE07   R03\n",
      "SE07   R04\n",
      "SE07   R02\n",
      "SE12   R01\n",
      "SE12   R05\n",
      "SE12   R03\n",
      "SE12   R04\n",
      "SE12   R02\n",
      "SE14   R01\n",
      "SE14   R05\n",
      "SE14   R03\n",
      "SE14   R04\n",
      "SE14   R02\n",
      "SE14   R06\n",
      "SE05   R01\n",
      "SE05   R05\n",
      "SE05   R03\n",
      "SE05   R04\n",
      "SE05   R02\n",
      "SE04   R01\n",
      "SE04   R05\n",
      "SE04   R03\n",
      "SE04   R04\n",
      "SE04   R02\n",
      "SE02   R01\n",
      "SE02   R05\n",
      "SE02   R03\n",
      "SE02   R04\n",
      "SE02   R02\n"
     ]
    }
   ],
   "source": [
    "for entry in templist: # F05\n",
    "    try:\n",
    "        print(entry['subject'].value_counts().index[0], ' ', entry['trial'].value_counts().index[0])\n",
    "    except:\n",
    "        print()"
   ]
  },
  {
   "cell_type": "code",
   "execution_count": 185,
   "metadata": {
    "collapsed": true
   },
   "outputs": [],
   "source": [
    "class MovingAverageFilter(object):\n",
    "    \n",
    "    def __init__(self, window):\n",
    "        self.window = window\n",
    "        self.data = []\n",
    "        \n",
    "    def step(self, measurement):\n",
    "        self.data.append(measurement)\n",
    "        if len(self.data)>self.window:\n",
    "            self.data.pop(0)\n",
    "    \n",
    "    def current_state(self):\n",
    "        return sum(self.data)/len(self.data)"
   ]
  },
  {
   "cell_type": "code",
   "execution_count": 198,
   "metadata": {
    "collapsed": true
   },
   "outputs": [],
   "source": [
    "class SingleStateKalmanFilter(object):\n",
    "    \n",
    "    def __init__(self, A, B, C, x, P, Q, R):\n",
    "        self.A = A # process dynamics\n",
    "        self.B = B # control dynamics\n",
    "        self.C = C # measurement dynamics\n",
    "        self.current_state_estimate = x # current state est\n",
    "        self.current_prob_estimate = P # current prob. of state est\n",
    "        self.Q = Q\n",
    "        self.R = R\n",
    "        \n",
    "    def current_state(self):\n",
    "        return self.current_state_estimate\n",
    "    \n",
    "    def step(self, control_input, measurement):\n",
    "        # Prediction step\n",
    "        predicted_state_estimate = self.A * self.current_state_estimate + self.B * control_input\n",
    "        predicted_prob_estimate = (self.A * self.current_prob_estimate) * self.A + self.Q\n",
    "        \n",
    "        # Observation step\n",
    "        innovation = measurement - self.C * predicted_state_estimate\n",
    "        innovation_covariance = self.C * predicted_prob_estimate * self.C + self.R\n",
    "        \n",
    "        # Update step\n",
    "        kalman_gain = predicted_prob_estimate * self.C * 1 /float(innovation_covariance)\n",
    "        self.current_state_estimate = predicted_state_estimate + kalman_gain * innovation\n",
    "        \n",
    "        # eye(n) = nxn ident\n",
    "        self.current_prob_estimate = (1 - kalman_gain * self.C) * predicted_prob_estimate"
   ]
  },
  {
   "cell_type": "code",
   "execution_count": 199,
   "metadata": {
    "collapsed": true
   },
   "outputs": [],
   "source": [
    "# Initialize Kalman Filter\n",
    "A = 1 # no process innovation\n",
    "C = 1 # measurement\n",
    "B = 0 # no control input\n",
    "Q = 0.005 # process covariance\n",
    "R = 1 # measurement covariance\n",
    "x = 20 # initial estimate\n",
    "P = 1 # initial covariance\n",
    "\n",
    "filter = SingleStateKalmanFilter(A, B, C, x, P, Q, R)\n",
    "\n",
    "# Initialize two moving avg filters with diff. window lengths\n",
    "ma25 = MovingAverageFilter(25)\n",
    "ma200 = MovingAverageFilter(200)"
   ]
  },
  {
   "cell_type": "code",
   "execution_count": 200,
   "metadata": {
    "collapsed": true
   },
   "outputs": [],
   "source": [
    "my_df = templist[0][['x1', 'y1', 'z1']]\n",
    "\n",
    "# Empty lists for capturing filter estimates\n",
    "predictions = []\n",
    "wavg25 = []\n",
    "wavg200 = []\n",
    "\n",
    "# Simulate the data arriving sequentially\n",
    "for data in my_df['x1']:\n",
    "    ma25.step(data)\n",
    "    wavg25.append(ma25.current_state())\n",
    "    \n",
    "    ma200.step(data)\n",
    "    wavg200.append(ma200.current_state())\n",
    "\n",
    "    filter.step(0, data)\n",
    "    predictions.append(filter.current_state())\n",
    "    "
   ]
  },
  {
   "cell_type": "code",
   "execution_count": 210,
   "metadata": {
    "scrolled": true
   },
   "outputs": [
    {
     "data": {
      "text/html": [
       "<div>\n",
       "<style>\n",
       "    .dataframe thead tr:only-child th {\n",
       "        text-align: right;\n",
       "    }\n",
       "\n",
       "    .dataframe thead th {\n",
       "        text-align: left;\n",
       "    }\n",
       "\n",
       "    .dataframe tbody tr th {\n",
       "        vertical-align: top;\n",
       "    }\n",
       "</style>\n",
       "<table border=\"1\" class=\"dataframe\">\n",
       "  <thead>\n",
       "    <tr style=\"text-align: right;\">\n",
       "      <th></th>\n",
       "      <th>x1</th>\n",
       "      <th>prediction</th>\n",
       "      <th>wavg200</th>\n",
       "    </tr>\n",
       "  </thead>\n",
       "  <tbody>\n",
       "    <tr>\n",
       "      <th>0</th>\n",
       "      <td>22</td>\n",
       "      <td>21.002494</td>\n",
       "      <td>22.000000</td>\n",
       "    </tr>\n",
       "    <tr>\n",
       "      <th>1</th>\n",
       "      <td>20</td>\n",
       "      <td>20.665557</td>\n",
       "      <td>21.000000</td>\n",
       "    </tr>\n",
       "    <tr>\n",
       "      <th>2</th>\n",
       "      <td>23</td>\n",
       "      <td>21.259305</td>\n",
       "      <td>21.666667</td>\n",
       "    </tr>\n",
       "    <tr>\n",
       "      <th>3</th>\n",
       "      <td>23</td>\n",
       "      <td>21.617775</td>\n",
       "      <td>22.000000</td>\n",
       "    </tr>\n",
       "    <tr>\n",
       "      <th>4</th>\n",
       "      <td>26</td>\n",
       "      <td>22.381122</td>\n",
       "      <td>22.800000</td>\n",
       "    </tr>\n",
       "  </tbody>\n",
       "</table>\n",
       "</div>"
      ],
      "text/plain": [
       "   x1  prediction    wavg200\n",
       "0  22   21.002494  22.000000\n",
       "1  20   20.665557  21.000000\n",
       "2  23   21.259305  21.666667\n",
       "3  23   21.617775  22.000000\n",
       "4  26   22.381122  22.800000"
      ]
     },
     "execution_count": 210,
     "metadata": {},
     "output_type": "execute_result"
    }
   ],
   "source": [
    "my_df2 = pd.concat([my_df['x1'].reset_index(drop=True), pd.Series(predictions)], axis=1)\n",
    "my_df2.columns = ['x1', 'prediction']\n",
    "my_df2.head()\n",
    "\n",
    "my_df3 = pd.concat([my_df2.reset_index(drop=True), pd.Series(wavg200)], axis=1)\n",
    "my_df3.columns = ['x1', 'prediction', 'wavg200']\n",
    "my_df3.head()"
   ]
  },
  {
   "cell_type": "code",
   "execution_count": 218,
   "metadata": {},
   "outputs": [
    {
     "name": "stdout",
     "output_type": "stream",
     "text": [
      "168800\n"
     ]
    }
   ],
   "source": [
    "dfcopy = my_df.copy()\n",
    "print(len(dfcopy))\n",
    "dfcopy['rolling200'] = dfcopy['y1'].rolling(200).mean()\n",
    "dfcopy['feat4'] = dfcopy['y1'] - dfcopy['rolling200']"
   ]
  },
  {
   "cell_type": "code",
   "execution_count": 221,
   "metadata": {},
   "outputs": [],
   "source": [
    "dfcopy['feat4'] = dfcopy['y1'] - dfcopy['rolling200']"
   ]
  },
  {
   "cell_type": "code",
   "execution_count": 224,
   "metadata": {},
   "outputs": [
    {
     "data": {
      "text/html": [
       "<div>\n",
       "<style>\n",
       "    .dataframe thead tr:only-child th {\n",
       "        text-align: right;\n",
       "    }\n",
       "\n",
       "    .dataframe thead th {\n",
       "        text-align: left;\n",
       "    }\n",
       "\n",
       "    .dataframe tbody tr th {\n",
       "        vertical-align: top;\n",
       "    }\n",
       "</style>\n",
       "<table border=\"1\" class=\"dataframe\">\n",
       "  <thead>\n",
       "    <tr style=\"text-align: right;\">\n",
       "      <th></th>\n",
       "      <th>x1</th>\n",
       "      <th>y1</th>\n",
       "      <th>z1</th>\n",
       "      <th>rolling200</th>\n",
       "      <th>feat4</th>\n",
       "      <th>A</th>\n",
       "    </tr>\n",
       "  </thead>\n",
       "  <tbody>\n",
       "    <tr>\n",
       "      <th>15386532</th>\n",
       "      <td>22</td>\n",
       "      <td>-253</td>\n",
       "      <td>-83</td>\n",
       "      <td>NaN</td>\n",
       "      <td>NaN</td>\n",
       "      <td>267.174</td>\n",
       "    </tr>\n",
       "    <tr>\n",
       "      <th>15386533</th>\n",
       "      <td>20</td>\n",
       "      <td>-257</td>\n",
       "      <td>-83</td>\n",
       "      <td>NaN</td>\n",
       "      <td>NaN</td>\n",
       "      <td>270.810</td>\n",
       "    </tr>\n",
       "    <tr>\n",
       "      <th>15386534</th>\n",
       "      <td>23</td>\n",
       "      <td>-256</td>\n",
       "      <td>-82</td>\n",
       "      <td>NaN</td>\n",
       "      <td>NaN</td>\n",
       "      <td>269.794</td>\n",
       "    </tr>\n",
       "    <tr>\n",
       "      <th>15386535</th>\n",
       "      <td>23</td>\n",
       "      <td>-256</td>\n",
       "      <td>-80</td>\n",
       "      <td>NaN</td>\n",
       "      <td>NaN</td>\n",
       "      <td>269.193</td>\n",
       "    </tr>\n",
       "    <tr>\n",
       "      <th>15386536</th>\n",
       "      <td>26</td>\n",
       "      <td>-256</td>\n",
       "      <td>-86</td>\n",
       "      <td>NaN</td>\n",
       "      <td>NaN</td>\n",
       "      <td>271.308</td>\n",
       "    </tr>\n",
       "  </tbody>\n",
       "</table>\n",
       "</div>"
      ],
      "text/plain": [
       "          x1   y1  z1  rolling200  feat4        A\n",
       "15386532  22 -253 -83         NaN    NaN  267.174\n",
       "15386533  20 -257 -83         NaN    NaN  270.810\n",
       "15386534  23 -256 -82         NaN    NaN  269.794\n",
       "15386535  23 -256 -80         NaN    NaN  269.193\n",
       "15386536  26 -256 -86         NaN    NaN  271.308"
      ]
     },
     "execution_count": 224,
     "metadata": {},
     "output_type": "execute_result"
    }
   ],
   "source": [
    "#dfcopy['max200'] = dfcopy[['x1', 'y1', 'z1']]\n",
    "\n",
    "dfcopy['A'] = dfcopy.apply(lambda row: np.sqrt( row.iloc[0]**2 + row.iloc[1]**2 + row.iloc[2]**2).round(3) , axis=1)\n",
    "dfcopy.head()"
   ]
  },
  {
   "cell_type": "code",
   "execution_count": null,
   "metadata": {
    "collapsed": true
   },
   "outputs": [],
   "source": []
  },
  {
   "cell_type": "code",
   "execution_count": null,
   "metadata": {},
   "outputs": [],
   "source": []
  },
  {
   "cell_type": "code",
   "execution_count": null,
   "metadata": {
    "collapsed": true
   },
   "outputs": [],
   "source": []
  },
  {
   "cell_type": "code",
   "execution_count": null,
   "metadata": {
    "collapsed": true
   },
   "outputs": [],
   "source": []
  },
  {
   "cell_type": "code",
   "execution_count": null,
   "metadata": {
    "collapsed": true
   },
   "outputs": [],
   "source": []
  },
  {
   "cell_type": "code",
   "execution_count": 214,
   "metadata": {},
   "outputs": [
    {
     "data": {
      "image/png": "[encoded data removed]",
      "text/plain": [
       "<Figure size 432x288 with 1 Axes>"
      ]
     },
     "metadata": {},
     "output_type": "display_data"
    }
   ],
   "source": [
    "plt.plot(my_df3['prediction']);"
   ]
  },
  {
   "cell_type": "code",
   "execution_count": null,
   "metadata": {
    "collapsed": true
   },
   "outputs": [],
   "source": []
  },
  {
   "cell_type": "code",
   "execution_count": 201,
   "metadata": {},
   "outputs": [
    {
     "data": {
      "text/plain": [
       "[<matplotlib.lines.Line2D at 0x18c475400>]"
      ]
     },
     "execution_count": 201,
     "metadata": {},
     "output_type": "execute_result"
    },
    {
     "data": {
      "image/png": "[encoded data removed]",
      "text/plain": [
       "<Figure size 432x288 with 1 Axes>"
      ]
     },
     "metadata": {},
     "output_type": "display_data"
    }
   ],
   "source": [
    "plt.plot(my_df['x1'])"
   ]
  }
 ],
 "metadata": {
  "kernelspec": {
   "display_name": "Python 3",
   "language": "python",
   "name": "python3"
  },
  "language_info": {
   "codemirror_mode": {
    "name": "ipython",
    "version": 3
   },
   "file_extension": ".py",
   "mimetype": "text/x-python",
   "name": "python",
   "nbconvert_exporter": "python",
   "pygments_lexer": "ipython3",
   "version": "3.6.3"
  }
 },
 "nbformat": 4,
 "nbformat_minor": 2
}
