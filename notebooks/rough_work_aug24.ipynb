{
 "cells": [
  {
   "cell_type": "code",
   "execution_count": 2,
   "metadata": {},
   "outputs": [
    {
     "name": "stdout",
     "output_type": "stream",
     "text": [
      "* 1 to 23 ...\n"
     ]
    }
   ],
   "source": [
    "%matplotlib inline\n",
    "import pandas as pd\n",
    "import numpy as np\n",
    "import warnings\n",
    "import time\n",
    "warnings.filterwarnings('ignore')\n",
    "import matplotlib\n",
    "import matplotlib.pyplot as plt\n",
    "\n",
    "path = '/Users/mattjohnson/Desktop/Python2018/sisfall/SubjectDataFrames/acm_SA'\n",
    "\n",
    "subjectList = []\n",
    "\n",
    "firstIndex = 1\n",
    "lastIndex = 24\n",
    "\n",
    "print('*',firstIndex, 'to', lastIndex-1, '...')\n",
    "\n",
    "for i in range(firstIndex, lastIndex):\n",
    "    data = pd.read_csv(path + str(i).zfill(2) + '.csv')\n",
    "    data = data.drop('Unnamed: 0', axis=1)\n",
    "    df = data[['x1', 'y1', 'z1', 'x2', 'y2', 'z2', 'activity', 'subject', 'trial']]\n",
    "    subjectList.append(df)"
   ]
  },
  {
   "cell_type": "code",
   "execution_count": 3,
   "metadata": {
    "collapsed": true
   },
   "outputs": [],
   "source": [
    "from scipy.signal import butter, lfilter, freqz\n",
    "\n",
    "# Filter requirements.\n",
    "order = 4\n",
    "fs = 200.0  # sample rate, Hz\n",
    "cutoff = 5.0  # desired cutoff frequency of the filter, Hz\n",
    "\n",
    "\n",
    "# From??????\n",
    "def butter_lowpass(cutoff, fs, order=5):\n",
    "    nyq = 0.5 * fs\n",
    "    normal_cutoff = cutoff / nyq\n",
    "    b, a = butter(order, normal_cutoff, btype='low', analog=False)\n",
    "    return b, a\n",
    "\n",
    "\n",
    "def butter_lowpass_filter(data, cutoff, fs, order=5):\n",
    "    b, a = butter_lowpass(cutoff, fs, order=order)\n",
    "    y = lfilter(b, a, data)\n",
    "    return y"
   ]
  },
  {
   "cell_type": "code",
   "execution_count": 4,
   "metadata": {
    "collapsed": true
   },
   "outputs": [],
   "source": [
    "# Codes for ADLs\n",
    "dailies = ['D01', 'D02', 'D03', 'D04', 'D05', 'D06', 'D07', 'D08', 'D09', 'D10', 'D11', 'D12', 'D13', 'D14', 'D15',\n",
    "           'D16', 'D17', 'D18', 'D19']\n",
    "\n",
    "# Codes for Falls\n",
    "falls = ['F01', 'F02', 'F03', 'F04', 'F05', 'F06', 'F07', 'F08', 'F09', 'F10', 'F11', 'F12', 'F13', 'F14', 'F15']"
   ]
  },
  {
   "cell_type": "code",
   "execution_count": 5,
   "metadata": {
    "collapsed": true
   },
   "outputs": [],
   "source": [
    "df = pd.concat(subjectList)\n",
    "df['fx'] = pd.Series(butter_lowpass_filter(df['x1'], cutoff, fs, order))\n",
    "df['fy'] = pd.Series(butter_lowpass_filter(df['y1'], cutoff, fs, order))\n",
    "df['fz'] = pd.Series(butter_lowpass_filter(df['z1'], cutoff, fs, order))"
   ]
  },
  {
   "cell_type": "code",
   "execution_count": 6,
   "metadata": {
    "collapsed": true
   },
   "outputs": [],
   "source": [
    "df['bx'] = df['fx'].diff()\n",
    "df['by'] = df['fy'].diff()\n",
    "df['bz'] = df['fz'].diff()\n",
    "        \n",
    "df['horiz_vector_mag'] = np.sqrt(df['fx'] ** 2 + df['fz'] ** 2)\n",
    "df['vector_mag'] = np.sqrt(df['fx'] ** 2 + df['fy'] ** 2 + df['fz'] ** 2)\n",
    "df['diff_vector_mag'] = np.sqrt(df['bx'] ** 2 + df['by'] ** 2 + df['bz'] ** 2)"
   ]
  },
  {
   "cell_type": "code",
   "execution_count": 13,
   "metadata": {
    "scrolled": true
   },
   "outputs": [
    {
     "data": {
      "text/html": [
       "<div>\n",
       "<style>\n",
       "    .dataframe thead tr:only-child th {\n",
       "        text-align: right;\n",
       "    }\n",
       "\n",
       "    .dataframe thead th {\n",
       "        text-align: left;\n",
       "    }\n",
       "\n",
       "    .dataframe tbody tr th {\n",
       "        vertical-align: top;\n",
       "    }\n",
       "</style>\n",
       "<table border=\"1\" class=\"dataframe\">\n",
       "  <thead>\n",
       "    <tr style=\"text-align: right;\">\n",
       "      <th></th>\n",
       "      <th>x1</th>\n",
       "      <th>y1</th>\n",
       "      <th>z1</th>\n",
       "      <th>x2</th>\n",
       "      <th>y2</th>\n",
       "      <th>z2</th>\n",
       "      <th>activity</th>\n",
       "      <th>subject</th>\n",
       "      <th>trial</th>\n",
       "      <th>fx</th>\n",
       "      <th>fy</th>\n",
       "      <th>fz</th>\n",
       "      <th>bx</th>\n",
       "      <th>by</th>\n",
       "      <th>bz</th>\n",
       "      <th>horiz_vector_mag</th>\n",
       "      <th>vector_mag</th>\n",
       "      <th>diff_vector_mag</th>\n",
       "    </tr>\n",
       "  </thead>\n",
       "  <tbody>\n",
       "    <tr>\n",
       "      <th>0</th>\n",
       "      <td>-9</td>\n",
       "      <td>-260</td>\n",
       "      <td>-46</td>\n",
       "      <td>-51</td>\n",
       "      <td>0</td>\n",
       "      <td>-2</td>\n",
       "      <td>D16</td>\n",
       "      <td>SA01</td>\n",
       "      <td>R01</td>\n",
       "      <td>-0.000281</td>\n",
       "      <td>-0.008122</td>\n",
       "      <td>-0.001437</td>\n",
       "      <td>NaN</td>\n",
       "      <td>NaN</td>\n",
       "      <td>NaN</td>\n",
       "      <td>0.001464</td>\n",
       "      <td>0.008253</td>\n",
       "      <td>NaN</td>\n",
       "    </tr>\n",
       "    <tr>\n",
       "      <th>1</th>\n",
       "      <td>-12</td>\n",
       "      <td>-259</td>\n",
       "      <td>-44</td>\n",
       "      <td>-52</td>\n",
       "      <td>1</td>\n",
       "      <td>-1</td>\n",
       "      <td>D16</td>\n",
       "      <td>SA01</td>\n",
       "      <td>R01</td>\n",
       "      <td>-0.002509</td>\n",
       "      <td>-0.069736</td>\n",
       "      <td>-0.012281</td>\n",
       "      <td>-0.002228</td>\n",
       "      <td>-0.061614</td>\n",
       "      <td>-0.010844</td>\n",
       "      <td>0.012535</td>\n",
       "      <td>0.070853</td>\n",
       "      <td>0.062600</td>\n",
       "    </tr>\n",
       "    <tr>\n",
       "      <th>2</th>\n",
       "      <td>-9</td>\n",
       "      <td>-260</td>\n",
       "      <td>-43</td>\n",
       "      <td>-52</td>\n",
       "      <td>0</td>\n",
       "      <td>-1</td>\n",
       "      <td>D16</td>\n",
       "      <td>SA01</td>\n",
       "      <td>R01</td>\n",
       "      <td>-0.011109</td>\n",
       "      <td>-0.300149</td>\n",
       "      <td>-0.052577</td>\n",
       "      <td>-0.008601</td>\n",
       "      <td>-0.230413</td>\n",
       "      <td>-0.040296</td>\n",
       "      <td>0.053738</td>\n",
       "      <td>0.304921</td>\n",
       "      <td>0.234068</td>\n",
       "    </tr>\n",
       "    <tr>\n",
       "      <th>3</th>\n",
       "      <td>-11</td>\n",
       "      <td>-261</td>\n",
       "      <td>-48</td>\n",
       "      <td>-50</td>\n",
       "      <td>1</td>\n",
       "      <td>-2</td>\n",
       "      <td>D16</td>\n",
       "      <td>SA01</td>\n",
       "      <td>R01</td>\n",
       "      <td>-0.033373</td>\n",
       "      <td>-0.884571</td>\n",
       "      <td>-0.154230</td>\n",
       "      <td>-0.022264</td>\n",
       "      <td>-0.584423</td>\n",
       "      <td>-0.101652</td>\n",
       "      <td>0.157799</td>\n",
       "      <td>0.898536</td>\n",
       "      <td>0.593615</td>\n",
       "    </tr>\n",
       "    <tr>\n",
       "      <th>4</th>\n",
       "      <td>-12</td>\n",
       "      <td>-260</td>\n",
       "      <td>-47</td>\n",
       "      <td>-49</td>\n",
       "      <td>0</td>\n",
       "      <td>-3</td>\n",
       "      <td>D16</td>\n",
       "      <td>SA01</td>\n",
       "      <td>R01</td>\n",
       "      <td>-0.078272</td>\n",
       "      <td>-2.047753</td>\n",
       "      <td>-0.355995</td>\n",
       "      <td>-0.044899</td>\n",
       "      <td>-1.163181</td>\n",
       "      <td>-0.201765</td>\n",
       "      <td>0.364498</td>\n",
       "      <td>2.079940</td>\n",
       "      <td>1.181404</td>\n",
       "    </tr>\n",
       "  </tbody>\n",
       "</table>\n",
       "</div>"
      ],
      "text/plain": [
       "   x1   y1  z1  x2  y2  z2 activity subject trial        fx        fy  \\\n",
       "0  -9 -260 -46 -51   0  -2      D16    SA01   R01 -0.000281 -0.008122   \n",
       "1 -12 -259 -44 -52   1  -1      D16    SA01   R01 -0.002509 -0.069736   \n",
       "2  -9 -260 -43 -52   0  -1      D16    SA01   R01 -0.011109 -0.300149   \n",
       "3 -11 -261 -48 -50   1  -2      D16    SA01   R01 -0.033373 -0.884571   \n",
       "4 -12 -260 -47 -49   0  -3      D16    SA01   R01 -0.078272 -2.047753   \n",
       "\n",
       "         fz        bx        by        bz  horiz_vector_mag  vector_mag  \\\n",
       "0 -0.001437       NaN       NaN       NaN          0.001464    0.008253   \n",
       "1 -0.012281 -0.002228 -0.061614 -0.010844          0.012535    0.070853   \n",
       "2 -0.052577 -0.008601 -0.230413 -0.040296          0.053738    0.304921   \n",
       "3 -0.154230 -0.022264 -0.584423 -0.101652          0.157799    0.898536   \n",
       "4 -0.355995 -0.044899 -1.163181 -0.201765          0.364498    2.079940   \n",
       "\n",
       "   diff_vector_mag  \n",
       "0              NaN  \n",
       "1         0.062600  \n",
       "2         0.234068  \n",
       "3         0.593615  \n",
       "4         1.181404  "
      ]
     },
     "execution_count": 13,
     "metadata": {},
     "output_type": "execute_result"
    }
   ],
   "source": [
    "df.head()"
   ]
  },
  {
   "cell_type": "code",
   "execution_count": 18,
   "metadata": {
    "collapsed": true
   },
   "outputs": [],
   "source": [
    "all_activities"
   ]
  },
  {
   "cell_type": "code",
   "execution_count": 23,
   "metadata": {},
   "outputs": [
    {
     "name": "stdout",
     "output_type": "stream",
     "text": [
      "SA01 Completed... It took 2.4699599742889404 seconds.\n",
      "SA02 Completed... It took 2.4309070110321045 seconds.\n",
      "SA03 Completed... It took 2.4443178176879883 seconds.\n",
      "SA04 Completed... It took 2.4013240337371826 seconds.\n",
      "SA05 Completed... It took 2.384326934814453 seconds.\n",
      "SA06 Completed... It took 2.394231081008911 seconds.\n",
      "SA07 Completed... It took 2.4145209789276123 seconds.\n",
      "SA08 Completed... It took 2.3952999114990234 seconds.\n",
      "SA09 Completed... It took 2.4042811393737793 seconds.\n",
      "SA10 Completed... It took 2.416114091873169 seconds.\n",
      "SA11 Completed... It took 2.4112629890441895 seconds.\n",
      "SA12 Completed... It took 2.438868999481201 seconds.\n",
      "SA13 Completed... It took 2.414296865463257 seconds.\n",
      "SA14 Completed... It took 2.4107890129089355 seconds.\n",
      "SA15 Completed... It took 2.3641469478607178 seconds.\n",
      "SA16 Completed... It took 2.4086878299713135 seconds.\n",
      "SA17 Completed... It took 2.4121479988098145 seconds.\n",
      "SA18 Completed... It took 2.410818099975586 seconds.\n",
      "SA19 Completed... It took 2.3942008018493652 seconds.\n",
      "SA20 Completed... It took 2.377562999725342 seconds.\n",
      "SA21 Completed... It took 2.43906307220459 seconds.\n",
      "SA22 Completed... It took 2.5003609657287598 seconds.\n",
      "SA23 Completed... It took 2.4355199337005615 seconds.\n"
     ]
    }
   ],
   "source": [
    "all_activities = falls+dailies\n",
    "\n",
    "subjects = []\n",
    "for i in range(1,24):\n",
    "    subjects.append('SA'+str(i).zfill(2))\n",
    "    \n",
    "trials = []\n",
    "for i in range(1,6):\n",
    "    trials.append('R'+str(i).zfill(2))\n",
    "    \n",
    "start = time.time()\n",
    "\n",
    "temp_list = []\n",
    "\n",
    "for subject in subjects:\n",
    "    start = time.time()\n",
    "    tempdf = df[ df['subject']==subject ]\n",
    "              \n",
    "    for activity in all_activities:\n",
    "        temp = tempdf[ tempdf['activity']==activity]\n",
    "        for trial in trials:\n",
    "            try:\n",
    "                temp = temp[ temp['trial']==trial]\n",
    "                temp2 = temp.rolling(256).std()\n",
    "                temp_list.append(temp2)\n",
    "            except:\n",
    "                print()\n",
    "                \n",
    "    print(subject, 'Completed... It took', time.time() - start, 'seconds.')"
   ]
  },
  {
   "cell_type": "code",
   "execution_count": 24,
   "metadata": {},
   "outputs": [],
   "source": [
    "tempdf = pd.concat(temp_list).dropna()\n",
    "tempdf['vector_mag_rolling_std'] = np.sqrt(tempdf['fx'] ** 2 + tempdf['fy'] ** 2 + tempdf['fz'] ** 2)\n",
    "tempdf['horiz_vector_mag_rolling_std'] = np.sqrt(tempdf['fx'] ** 2  + tempdf['fz'] ** 2)"
   ]
  },
  {
   "cell_type": "code",
   "execution_count": 27,
   "metadata": {
    "collapsed": true
   },
   "outputs": [],
   "source": [
    "pivot = pd.pivot_table(index=['activity', 'subject', 'trial'], \n",
    "                       values=['horiz_vector_mag', 'vector_mag', 'diff_vector_mag'],\n",
    "                       aggfunc=max, data=df)\n",
    "\n",
    "\n",
    "pivot2 = pd.pivot_table(index=['activity', 'subject'], values=['vector_mag_rolling_std', \n",
    "            'horiz_vector_mag_rolling_std'], aggfunc=max, data=tempdf)"
   ]
  },
  {
   "cell_type": "code",
   "execution_count": 28,
   "metadata": {
    "collapsed": true
   },
   "outputs": [],
   "source": [
    "pivot['xx'] = pivot.index\n",
    "pivot['FallActivity'] = pivot['xx'].apply(lambda x: x[0][0])\n",
    "pivot['activity'] = pivot['xx'].apply(lambda x: x[0])\n",
    "\n",
    "pivot2['xx'] = pivot2.index\n",
    "pivot2['FallActivity'] = pivot2['xx'].apply(lambda x: x[0][0])\n",
    "pivot2['activity'] = pivot2['xx'].apply(lambda x: x[0])"
   ]
  },
  {
   "cell_type": "code",
   "execution_count": 29,
   "metadata": {
    "collapsed": true
   },
   "outputs": [],
   "source": [
    "df.to_csv('aug24_sisfall.csv')\n",
    "tempdf.to_csv('aug24_sisfall_std.csv')"
   ]
  },
  {
   "cell_type": "code",
   "execution_count": 31,
   "metadata": {
    "collapsed": true
   },
   "outputs": [],
   "source": [
    "import seaborn as sns"
   ]
  },
  {
   "cell_type": "code",
   "execution_count": 33,
   "metadata": {},
   "outputs": [
    {
     "data": {
      "image/png": "[encoded data removed]",
      "text/plain": [
       "<Figure size 1440x576 with 1 Axes>"
      ]
     },
     "metadata": {},
     "output_type": "display_data"
    }
   ],
   "source": [
    "plt.subplots(figsize=(20,8))\n",
    "sns.boxplot(x='activity', y='horiz_vector_mag_rolling_std', hue='FallActivity', data=pivot2, order = dailies + falls);"
   ]
  },
  {
   "cell_type": "code",
   "execution_count": 36,
   "metadata": {},
   "outputs": [
    {
     "data": {
      "image/png": "[encoded data removed]",
      "text/plain": [
       "<Figure size 1440x576 with 1 Axes>"
      ]
     },
     "metadata": {},
     "output_type": "display_data"
    }
   ],
   "source": [
    "plt.subplots(figsize=(20,8))\n",
    "sns.boxplot(x='activity', y='vector_mag_rolling_std', hue='FallActivity', data=pivot2, order = dailies + falls);"
   ]
  },
  {
   "cell_type": "code",
   "execution_count": 34,
   "metadata": {},
   "outputs": [
    {
     "data": {
      "image/png": "[encoded data removed]",
      "text/plain": [
       "<Figure size 1440x576 with 1 Axes>"
      ]
     },
     "metadata": {},
     "output_type": "display_data"
    }
   ],
   "source": [
    "plt.subplots(figsize=(20,8))\n",
    "sns.boxplot(x='activity', y='vector_mag', hue='FallActivity', data=pivot, order = dailies + falls);"
   ]
  },
  {
   "cell_type": "code",
   "execution_count": 35,
   "metadata": {},
   "outputs": [
    {
     "data": {
      "image/png": "[encoded data removed]",
      "text/plain": [
       "<Figure size 1440x576 with 1 Axes>"
      ]
     },
     "metadata": {},
     "output_type": "display_data"
    }
   ],
   "source": [
    "plt.subplots(figsize=(20,8))\n",
    "sns.boxplot(x='activity', y='horiz_vector_mag', hue='FallActivity', data=pivot, order = dailies + falls);"
   ]
  },
  {
   "cell_type": "code",
   "execution_count": 39,
   "metadata": {},
   "outputs": [
    {
     "data": {
      "text/plain": [
       "Index(['x1', 'y1', 'z1', 'x2', 'y2', 'z2', 'activity', 'subject', 'trial',\n",
       "       'fx', 'fy', 'fz', 'bx', 'by', 'bz', 'horiz_vector_mag', 'vector_mag',\n",
       "       'diff_vector_mag'],\n",
       "      dtype='object')"
      ]
     },
     "execution_count": 39,
     "metadata": {},
     "output_type": "execute_result"
    }
   ],
   "source": [
    "df.columns"
   ]
  },
  {
   "cell_type": "code",
   "execution_count": 40,
   "metadata": {},
   "outputs": [
    {
     "data": {
      "text/plain": [
       "Index(['x1', 'y1', 'z1', 'x2', 'y2', 'z2', 'activity', 'subject', 'trial',\n",
       "       'fx', 'fy', 'fz', 'bx', 'by', 'bz', 'horiz_vector_mag', 'vector_mag',\n",
       "       'diff_vector_mag', 'vector_mag_rolling_std',\n",
       "       'horiz_vector_mag_rolling_std'],\n",
       "      dtype='object')"
      ]
     },
     "execution_count": 40,
     "metadata": {},
     "output_type": "execute_result"
    }
   ],
   "source": [
    "tempdf.columns"
   ]
  },
  {
   "cell_type": "code",
   "execution_count": 15,
   "metadata": {
    "collapsed": true
   },
   "outputs": [],
   "source": [
    "\n",
    "pivot_std = pd.pivot_table(index=['activity', 'subject', 'trial'], \n",
    "                       values=['horiz_vector_mag', 'vector_mag', 'diff_vector_mag'],\n",
    "                       aggfunc=np.std, data=df)"
   ]
  },
  {
   "cell_type": "code",
   "execution_count": null,
   "metadata": {
    "collapsed": true
   },
   "outputs": [],
   "source": []
  },
  {
   "cell_type": "code",
   "execution_count": null,
   "metadata": {
    "collapsed": true
   },
   "outputs": [],
   "source": []
  },
  {
   "cell_type": "code",
   "execution_count": null,
   "metadata": {
    "collapsed": true
   },
   "outputs": [],
   "source": [
    "print()"
   ]
  },
  {
   "cell_type": "code",
   "execution_count": null,
   "metadata": {
    "collapsed": true
   },
   "outputs": [],
   "source": []
  }
 ],
 "metadata": {
  "kernelspec": {
   "display_name": "Python 3",
   "language": "python",
   "name": "python3"
  },
  "language_info": {
   "codemirror_mode": {
    "name": "ipython",
    "version": 3
   },
   "file_extension": ".py",
   "mimetype": "text/x-python",
   "name": "python",
   "nbconvert_exporter": "python",
   "pygments_lexer": "ipython3",
   "version": "3.6.3"
  }
 },
 "nbformat": 4,
 "nbformat_minor": 2
}
